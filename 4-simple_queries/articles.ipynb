{
 "cells": [
  {
   "cell_type": "code",
   "execution_count": 8,
   "metadata": {},
   "outputs": [],
   "source": [
    "!pip install neo4j"
   ]
  },
  {
   "cell_type": "code",
   "execution_count": null,
   "metadata": {},
   "outputs": [],
   "source": [
    "from neo4j import GraphDatabase"
   ]
  },
  {
   "cell_type": "code",
   "execution_count": null,
   "metadata": {},
   "outputs": [
    {
     "data": {
      "text/plain": [
       "[{'n.id': '9e2501b8e5da6e1627508c4eb321bf66eb41020e'}]"
      ]
     },
     "execution_count": 3,
     "metadata": {},
     "output_type": "execute_result"
    }
   ],
   "source": [
    "host = \"bolt://localhost:7687\"      # Connect to Neo4j \n",
    "auth = (\"neo4j\", \"password\")        # User and password\n",
    "\n",
    "# Connect to the Neo4j Database Server\n",
    "driver = GraphDatabase.driver(host, auth=auth)\n",
    "\n",
    "# Create a Session \n",
    "session = driver.session()\n",
    "\n",
    "# Check connection\n",
    "session.run(\"MATCH (n) RETURN n.id LIMIT 1\").data()"
   ]
  },
  {
   "cell_type": "code",
   "execution_count": null,
   "metadata": {},
   "outputs": [
    {
     "ename": "ClientError",
     "evalue": "{code: Neo.ClientError.Statement.ExternalResourceFailed} {message: Invalid URL '1-publications\\csv\\output.csv': no protocol: 1-publications\\csv\\output.csv ()}",
     "output_type": "error",
     "traceback": [
      "\u001b[1;31m---------------------------------------------------------------------------\u001b[0m",
      "\u001b[1;31mClientError\u001b[0m                               Traceback (most recent call last)",
      "Cell \u001b[1;32mIn[7], line 22\u001b[0m\n\u001b[0;32m      1\u001b[0m \u001b[39m# Create Nodes and Relationships\u001b[39;00m\n\u001b[0;32m      3\u001b[0m creation \u001b[39m=\u001b[39m \u001b[39m'''\u001b[39m\n\u001b[0;32m      4\u001b[0m \u001b[39mLOAD CSV WITH HEADERS FROM \u001b[39m\u001b[39m'\u001b[39m\u001b[39m1-publications\u001b[39m\u001b[39m\\\u001b[39m\u001b[39mcsv\u001b[39m\u001b[39m\\\u001b[39m\u001b[39moutput.csv\u001b[39m\u001b[39m'\u001b[39m\u001b[39m AS row\u001b[39m\n\u001b[0;32m      5\u001b[0m \n\u001b[1;32m   (...)\u001b[0m\n\u001b[0;32m     19\u001b[0m \u001b[39mMERGE (p)-[:WRITTEN_BY \u001b[39m\u001b[39m{\u001b[39m\u001b[39mauthorId: row.authorId}]->(a)\u001b[39m\n\u001b[0;32m     20\u001b[0m \u001b[39m'''\u001b[39m\n\u001b[1;32m---> 22\u001b[0m result \u001b[39m=\u001b[39m session\u001b[39m.\u001b[39;49mrun(creation)\n",
      "File \u001b[1;32mc:\\Users\\noaca\\AppData\\Local\\Programs\\Python\\Python310\\lib\\site-packages\\neo4j\\_sync\\work\\session.py:311\u001b[0m, in \u001b[0;36mSession.run\u001b[1;34m(self, query, parameters, **kwargs)\u001b[0m\n\u001b[0;32m    309\u001b[0m bookmarks \u001b[39m=\u001b[39m \u001b[39mself\u001b[39m\u001b[39m.\u001b[39m_get_bookmarks()\n\u001b[0;32m    310\u001b[0m parameters \u001b[39m=\u001b[39m \u001b[39mdict\u001b[39m(parameters \u001b[39mor\u001b[39;00m {}, \u001b[39m*\u001b[39m\u001b[39m*\u001b[39mkwargs)\n\u001b[1;32m--> 311\u001b[0m \u001b[39mself\u001b[39;49m\u001b[39m.\u001b[39;49m_auto_result\u001b[39m.\u001b[39;49m_run(\n\u001b[0;32m    312\u001b[0m     query, parameters, \u001b[39mself\u001b[39;49m\u001b[39m.\u001b[39;49m_config\u001b[39m.\u001b[39;49mdatabase,\n\u001b[0;32m    313\u001b[0m     \u001b[39mself\u001b[39;49m\u001b[39m.\u001b[39;49m_config\u001b[39m.\u001b[39;49mimpersonated_user, \u001b[39mself\u001b[39;49m\u001b[39m.\u001b[39;49m_config\u001b[39m.\u001b[39;49mdefault_access_mode,\n\u001b[0;32m    314\u001b[0m     bookmarks, \u001b[39mself\u001b[39;49m\u001b[39m.\u001b[39;49m_config\u001b[39m.\u001b[39;49mnotifications_min_severity,\n\u001b[0;32m    315\u001b[0m     \u001b[39mself\u001b[39;49m\u001b[39m.\u001b[39;49m_config\u001b[39m.\u001b[39;49mnotifications_disabled_categories,\n\u001b[0;32m    316\u001b[0m )\n\u001b[0;32m    318\u001b[0m \u001b[39mreturn\u001b[39;00m \u001b[39mself\u001b[39m\u001b[39m.\u001b[39m_auto_result\n",
      "File \u001b[1;32mc:\\Users\\noaca\\AppData\\Local\\Programs\\Python\\Python310\\lib\\site-packages\\neo4j\\_sync\\work\\result.py:166\u001b[0m, in \u001b[0;36mResult._run\u001b[1;34m(self, query, parameters, db, imp_user, access_mode, bookmarks, notifications_min_severity, notifications_disabled_categories)\u001b[0m\n\u001b[0;32m    164\u001b[0m \u001b[39mself\u001b[39m\u001b[39m.\u001b[39m_pull()\n\u001b[0;32m    165\u001b[0m \u001b[39mself\u001b[39m\u001b[39m.\u001b[39m_connection\u001b[39m.\u001b[39msend_all()\n\u001b[1;32m--> 166\u001b[0m \u001b[39mself\u001b[39;49m\u001b[39m.\u001b[39;49m_attach()\n",
      "File \u001b[1;32mc:\\Users\\noaca\\AppData\\Local\\Programs\\Python\\Python310\\lib\\site-packages\\neo4j\\_sync\\work\\result.py:274\u001b[0m, in \u001b[0;36mResult._attach\u001b[1;34m(self)\u001b[0m\n\u001b[0;32m    272\u001b[0m \u001b[39mif\u001b[39;00m \u001b[39mself\u001b[39m\u001b[39m.\u001b[39m_exhausted \u001b[39mis\u001b[39;00m \u001b[39mFalse\u001b[39;00m:\n\u001b[0;32m    273\u001b[0m     \u001b[39mwhile\u001b[39;00m \u001b[39mself\u001b[39m\u001b[39m.\u001b[39m_attached \u001b[39mis\u001b[39;00m \u001b[39mFalse\u001b[39;00m:\n\u001b[1;32m--> 274\u001b[0m         \u001b[39mself\u001b[39;49m\u001b[39m.\u001b[39;49m_connection\u001b[39m.\u001b[39;49mfetch_message()\n",
      "File \u001b[1;32mc:\\Users\\noaca\\AppData\\Local\\Programs\\Python\\Python310\\lib\\site-packages\\neo4j\\_sync\\io\\_common.py:180\u001b[0m, in \u001b[0;36mConnectionErrorHandler.__getattr__.<locals>.outer.<locals>.inner\u001b[1;34m(*args, **kwargs)\u001b[0m\n\u001b[0;32m    178\u001b[0m \u001b[39mdef\u001b[39;00m \u001b[39minner\u001b[39m(\u001b[39m*\u001b[39margs, \u001b[39m*\u001b[39m\u001b[39m*\u001b[39mkwargs):\n\u001b[0;32m    179\u001b[0m     \u001b[39mtry\u001b[39;00m:\n\u001b[1;32m--> 180\u001b[0m         func(\u001b[39m*\u001b[39margs, \u001b[39m*\u001b[39m\u001b[39m*\u001b[39mkwargs)\n\u001b[0;32m    181\u001b[0m     \u001b[39mexcept\u001b[39;00m (Neo4jError, ServiceUnavailable, SessionExpired) \u001b[39mas\u001b[39;00m exc:\n\u001b[0;32m    182\u001b[0m         \u001b[39massert\u001b[39;00m \u001b[39mnot\u001b[39;00m asyncio\u001b[39m.\u001b[39miscoroutinefunction(\u001b[39mself\u001b[39m\u001b[39m.\u001b[39m__on_error)\n",
      "File \u001b[1;32mc:\\Users\\noaca\\AppData\\Local\\Programs\\Python\\Python310\\lib\\site-packages\\neo4j\\_sync\\io\\_bolt.py:803\u001b[0m, in \u001b[0;36mBolt.fetch_message\u001b[1;34m(self)\u001b[0m\n\u001b[0;32m    799\u001b[0m \u001b[39m# Receive exactly one message\u001b[39;00m\n\u001b[0;32m    800\u001b[0m tag, fields \u001b[39m=\u001b[39m \u001b[39mself\u001b[39m\u001b[39m.\u001b[39minbox\u001b[39m.\u001b[39mpop(\n\u001b[0;32m    801\u001b[0m     hydration_hooks\u001b[39m=\u001b[39m\u001b[39mself\u001b[39m\u001b[39m.\u001b[39mresponses[\u001b[39m0\u001b[39m]\u001b[39m.\u001b[39mhydration_hooks\n\u001b[0;32m    802\u001b[0m )\n\u001b[1;32m--> 803\u001b[0m res \u001b[39m=\u001b[39m \u001b[39mself\u001b[39;49m\u001b[39m.\u001b[39;49m_process_message(tag, fields)\n\u001b[0;32m    804\u001b[0m \u001b[39mself\u001b[39m\u001b[39m.\u001b[39midle_since \u001b[39m=\u001b[39m perf_counter()\n\u001b[0;32m    805\u001b[0m \u001b[39mreturn\u001b[39;00m res\n",
      "File \u001b[1;32mc:\\Users\\noaca\\AppData\\Local\\Programs\\Python\\Python310\\lib\\site-packages\\neo4j\\_sync\\io\\_bolt4.py:361\u001b[0m, in \u001b[0;36mBolt4x0._process_message\u001b[1;34m(self, tag, fields)\u001b[0m\n\u001b[0;32m    359\u001b[0m \u001b[39mself\u001b[39m\u001b[39m.\u001b[39m_server_state_manager\u001b[39m.\u001b[39mstate \u001b[39m=\u001b[39m ServerStates\u001b[39m.\u001b[39mFAILED\n\u001b[0;32m    360\u001b[0m \u001b[39mtry\u001b[39;00m:\n\u001b[1;32m--> 361\u001b[0m     response\u001b[39m.\u001b[39;49mon_failure(summary_metadata \u001b[39mor\u001b[39;49;00m {})\n\u001b[0;32m    362\u001b[0m \u001b[39mexcept\u001b[39;00m (ServiceUnavailable, DatabaseUnavailable):\n\u001b[0;32m    363\u001b[0m     \u001b[39mif\u001b[39;00m \u001b[39mself\u001b[39m\u001b[39m.\u001b[39mpool:\n",
      "File \u001b[1;32mc:\\Users\\noaca\\AppData\\Local\\Programs\\Python\\Python310\\lib\\site-packages\\neo4j\\_sync\\io\\_common.py:247\u001b[0m, in \u001b[0;36mResponse.on_failure\u001b[1;34m(self, metadata)\u001b[0m\n\u001b[0;32m    245\u001b[0m handler \u001b[39m=\u001b[39m \u001b[39mself\u001b[39m\u001b[39m.\u001b[39mhandlers\u001b[39m.\u001b[39mget(\u001b[39m\"\u001b[39m\u001b[39mon_summary\u001b[39m\u001b[39m\"\u001b[39m)\n\u001b[0;32m    246\u001b[0m Util\u001b[39m.\u001b[39mcallback(handler)\n\u001b[1;32m--> 247\u001b[0m \u001b[39mraise\u001b[39;00m Neo4jError\u001b[39m.\u001b[39mhydrate(\u001b[39m*\u001b[39m\u001b[39m*\u001b[39mmetadata)\n",
      "\u001b[1;31mClientError\u001b[0m: {code: Neo.ClientError.Statement.ExternalResourceFailed} {message: Invalid URL '1-publications\\csv\\output.csv': no protocol: 1-publications\\csv\\output.csv ()}"
     ]
    }
   ],
   "source": [
    "# Create Nodes and Relationships\n",
    "creation = '''\n",
    "LOAD CSV WITH HEADERS FROM 'https://github.com/noachuartzt/IBD_Grupo2-P2/raw/main/1-publications/csv/output.csv' AS row\n",
    "\n",
    "// Create Paper node\n",
    "MERGE (p:Paper {id: row.paperId, title: row.title})\n",
    "SET p.publicationDate = CASE WHEN row.publicationDate IS NOT NULL THEN row.publicationDate ELSE \"Unknown\" END\n",
    "SET p.abstract = CASE WHEN row.abstract IS NOT NULL THEN row.abstract ELSE \"Unknown\" END\n",
    "\n",
    "// Create Author node\n",
    "WITH row, split(row.authorId, ',') AS ids, split(row.authorName, ',') AS names, p\n",
    "UNWIND range(0, size(ids)-1) AS i\n",
    "\n",
    "MERGE (a:Author {id: ids[i]})\n",
    "SET a.name = names[i]\n",
    "\n",
    "// Create WRITTEN_BY relationship\n",
    "MERGE (p)-[:WRITTEN_BY {authorId: row.authorId}]->(a)\n",
    "'''\n",
    "\n",
    "result = session.run(creation)"
   ]
  },
  {
   "cell_type": "code",
   "execution_count": null,
   "metadata": {},
   "outputs": [
    {
     "name": "stdout",
     "output_type": "stream",
     "text": [
      "| Title | Number of authors |\n",
      "\n",
      "| 3     | Soluble ST2, a biomarker of fibrosis, is associated with multiple risk factors, chronic diseases and total mortality in the OPERA study\n",
      "| 4     | Skin Cancer Diagnosis Using an Improved Ensemble Machine Learning model\n",
      "| 5     | Comparison between Expert Systems, Machine Learning, and Big Data: An Overview\n",
      "| 5     | 2. An overview of skin lesion segmentation, features engineering, and classification\n"
     ]
    }
   ],
   "source": [
    "articles1 = '''\n",
    "MATCH (p:Paper)-[:WRITTEN_BY]->(:Author {name: 'Y. Filali'})\n",
    "MATCH (p)-[:WRITTEN_BY]->(a:Author)\n",
    "RETURN p.title AS Title, COUNT(a) AS numAuthors\n",
    "ORDER BY numAuthors ASC\n",
    "'''\n",
    "result = session.run(articles1)\n",
    "\n",
    "print(\"| Title | Number of authors |\\n\")\n",
    "\n",
    "for record in result:\n",
    "    num_authors, title = record[\"numAuthors\"],  record[\"Title\"]\n",
    "    print(f'| {num_authors:<5} | {title}')"
   ]
  },
  {
   "cell_type": "code",
   "execution_count": null,
   "metadata": {},
   "outputs": [
    {
     "name": "stdout",
     "output_type": "stream",
     "text": [
      "| Title | Number of authors |\n",
      "\n",
      "| 3     | Soluble ST2, a biomarker of fibrosis, is associated with multiple risk factors, chronic diseases and total mortality in the OPERA study\n",
      "| 4     | Skin Cancer Diagnosis Using an Improved Ensemble Machine Learning model\n",
      "| 5     | Comparison between Expert Systems, Machine Learning, and Big Data: An Overview\n",
      "| 5     | 2. An overview of skin lesion segmentation, features engineering, and classification\n"
     ]
    }
   ],
   "source": [
    "articles2 = '''\n",
    "// Otra Opción\n",
    "MATCH (a:Author {name: \"Y. Filali\"})<-[:WRITTEN_BY]-(p:Paper)-[:WRITTEN_BY]->(b:Author) WHERE a <> b\n",
    "RETURN p.title as Title, COUNT (b) + 1 as numAuthors\n",
    "ORDER BY numAuthors ASC\n",
    "'''\n",
    "\n",
    "result = session.run(articles2)\n",
    "\n",
    "print(\"| Title | Number of authors |\\n\")\n",
    "\n",
    "for record in result:\n",
    "    num_authors, title = record[\"numAuthors\"],  record[\"Title\"]\n",
    "    print(f'| {num_authors:<5} | {title}')"
   ]
  },
  {
   "cell_type": "code",
   "execution_count": null,
   "metadata": {},
   "outputs": [
    {
     "name": "stdout",
     "output_type": "stream",
     "text": [
      "\n",
      "| Name | Collaborations |\n",
      "\n",
      "| A. Aarab             | 2\n",
      "| M. A. Sabri          | 2\n",
      "| O. Ukkola            | 1\n",
      "| Y. Kesäniemi         | 1\n",
      "| Humam Al-Shahwani    | 1\n",
      "| Karan Aggarwal       | 1\n",
      "| Dhamyaa Salim Mutar  | 1\n",
      "| Maad M. Mijwil       | 1\n",
      "| Hasnae El Khoukhi    | 1\n",
      "| A. Yahyaouy          | 1\n",
      "| A. Ennouni           | 1\n"
     ]
    }
   ],
   "source": [
    "collaborators = '''\n",
    "MATCH (a:Author {name: \"Y. Filali\"})<-[:WRITTEN_BY]-(p:Paper)-[:WRITTEN_BY]->(b:Author) WHERE a <> b\n",
    "WITH b, COUNT(p) AS Collaborations\n",
    "ORDER BY Collaborations DESC\n",
    "RETURN b.name AS Name, Collaborations \n",
    "'''\n",
    "\n",
    "result2 = session.run(collaborators)\n",
    "\n",
    "print(\"\\n| Name | Collaborations |\\n\")\n",
    "\n",
    "for record in result2:\n",
    "    name, collaborations = record[\"Name\"],  record[\"Collaborations\"]\n",
    "    print(f'| {name:<20} | {collaborations}')\n"
   ]
  }
 ],
 "metadata": {
  "kernelspec": {
   "display_name": "Python 3",
   "language": "python",
   "name": "python3"
  },
  "language_info": {
   "codemirror_mode": {
    "name": "ipython",
    "version": 3
   },
   "file_extension": ".py",
   "mimetype": "text/x-python",
   "name": "python",
   "nbconvert_exporter": "python",
   "pygments_lexer": "ipython3",
   "version": "3.10.11"
  },
  "orig_nbformat": 4
 },
 "nbformat": 4,
 "nbformat_minor": 2
}
