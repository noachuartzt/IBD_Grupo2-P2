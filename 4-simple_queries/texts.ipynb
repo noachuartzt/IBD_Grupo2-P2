{
 "cells": [
  {
   "cell_type": "code",
   "execution_count": 1,
   "metadata": {},
   "outputs": [
    {
     "name": "stdout",
     "output_type": "stream",
     "text": [
      "Looking in indexes: https://pypi.org/simple, https://pypi.ngc.nvidia.com\n",
      "Collecting elasticsearch\n",
      "  Downloading elasticsearch-8.7.0-py3-none-any.whl (387 kB)\n",
      "\u001b[2K     \u001b[90m━━━━━━━━━━━━━━━━━━━━━━━━━━━━━━━━━━━━━━━\u001b[0m \u001b[32m387.9/387.9 kB\u001b[0m \u001b[31m4.0 MB/s\u001b[0m eta \u001b[36m0:00:00\u001b[0ma \u001b[36m0:00:01\u001b[0m\n",
      "\u001b[?25hCollecting elastic-transport<9,>=8 (from elasticsearch)\n",
      "  Downloading elastic_transport-8.4.0-py3-none-any.whl (59 kB)\n",
      "\u001b[2K     \u001b[90m━━━━━━━━━━━━━━━━━━━━━━━━━━━━━━━━━━━━━━━━\u001b[0m \u001b[32m59.5/59.5 kB\u001b[0m \u001b[31m4.0 MB/s\u001b[0m eta \u001b[36m0:00:00\u001b[0m\n",
      "\u001b[?25hRequirement already satisfied: urllib3<2,>=1.26.2 in /opt/homebrew/lib/python3.11/site-packages (from elastic-transport<9,>=8->elasticsearch) (1.26.15)\n",
      "Requirement already satisfied: certifi in /opt/homebrew/lib/python3.11/site-packages (from elastic-transport<9,>=8->elasticsearch) (2022.12.7)\n",
      "Installing collected packages: elastic-transport, elasticsearch\n",
      "Successfully installed elastic-transport-8.4.0 elasticsearch-8.7.0\n"
     ]
    }
   ],
   "source": [
    "!pip install elasticsearch"
   ]
  },
  {
   "cell_type": "code",
   "execution_count": 21,
   "metadata": {},
   "outputs": [
    {
     "name": "stderr",
     "output_type": "stream",
     "text": [
      "/var/folders/nd/mfwt7yf50wdb5y15q3f9mzb80000gn/T/ipykernel_85139/2156522912.py:10: ElasticsearchWarning: Elasticsearch built-in security features are not enabled. Without authentication, your cluster could be accessible to anyone. See https://www.elastic.co/guide/en/elasticsearch/reference/7.17/security-minimal-setup.html to enable security.\n",
      "  client.info()\n"
     ]
    },
    {
     "data": {
      "text/plain": [
       "ObjectApiResponse({'name': '03d673b8d0e2', 'cluster_name': 'docker-cluster', 'cluster_uuid': 'Gz8IOq2-SbyAPmMlvOylhw', 'version': {'number': '7.17.9', 'build_flavor': 'default', 'build_type': 'docker', 'build_hash': 'ef48222227ee6b9e70e502f0f0daa52435ee634d', 'build_date': '2023-01-31T05:34:43.305517834Z', 'build_snapshot': False, 'lucene_version': '8.11.1', 'minimum_wire_compatibility_version': '6.8.0', 'minimum_index_compatibility_version': '6.0.0-beta1'}, 'tagline': 'You Know, for Search'})"
      ]
     },
     "execution_count": 21,
     "metadata": {},
     "output_type": "execute_result"
    }
   ],
   "source": [
    "from elasticsearch import Elasticsearch\n",
    "import json\n",
    "import os\n",
    "import pandas as pd\n",
    "\n",
    "# Create the client instance\n",
    "client = Elasticsearch(\"http://localhost:9200\")\n",
    "\n",
    "# Successful response!\n",
    "client.info()"
   ]
  },
  {
   "cell_type": "code",
   "execution_count": 22,
   "metadata": {},
   "outputs": [
    {
     "name": "stdout",
     "output_type": "stream",
     "text": [
      "Error decoding JSON file: 80313ba1f12e4525b941ba29f8e020cf5ae8b835.json\n"
     ]
    },
    {
     "name": "stderr",
     "output_type": "stream",
     "text": [
      "/var/folders/nd/mfwt7yf50wdb5y15q3f9mzb80000gn/T/ipykernel_85139/1534271428.py:19: ElasticsearchWarning: Elasticsearch built-in security features are not enabled. Without authentication, your cluster could be accessible to anyone. See https://www.elastic.co/guide/en/elasticsearch/reference/7.17/security-minimal-setup.html to enable security.\n",
      "  client.index(index='prueba', document=data)\n",
      "/var/folders/nd/mfwt7yf50wdb5y15q3f9mzb80000gn/T/ipykernel_85139/1534271428.py:24: ElasticsearchWarning: Elasticsearch built-in security features are not enabled. Without authentication, your cluster could be accessible to anyone. See https://www.elastic.co/guide/en/elasticsearch/reference/7.17/security-minimal-setup.html to enable security.\n",
      "  client.indices.refresh(index='prueba')\n"
     ]
    },
    {
     "data": {
      "text/plain": [
       "ObjectApiResponse({'_shards': {'total': 2, 'successful': 1, 'failed': 0}})"
      ]
     },
     "execution_count": 22,
     "metadata": {},
     "output_type": "execute_result"
    }
   ],
   "source": [
    "import os\n",
    "import json\n",
    "\n",
    "# Get the documents from the directory\n",
    "entries = os.listdir('../1-publications/json')\n",
    "for i in entries:\n",
    "    # Opening JSON file\n",
    "    with open('../1-publications/json/' + i) as f:\n",
    "        try:\n",
    "            # returns JSON object as a dictionary\n",
    "            data = json.load(f)\n",
    "\n",
    "            # Remove the unnecessary fields\n",
    "            fields_to_remove = ['url', 'paperId', 'year', 'publicationDate', 'authors']\n",
    "            for field in fields_to_remove:\n",
    "                data.pop(field, None)\n",
    "\n",
    "            # Index the document\n",
    "            client.index(index='prueba', document=data)\n",
    "        except json.JSONDecodeError:\n",
    "            print(f\"Error decoding JSON file: {i}\")\n",
    "\n",
    "# Refresh the index\n",
    "client.indices.refresh(index='prueba')\n"
   ]
  },
  {
   "cell_type": "code",
   "execution_count": 23,
   "metadata": {},
   "outputs": [
    {
     "name": "stderr",
     "output_type": "stream",
     "text": [
      "/var/folders/nd/mfwt7yf50wdb5y15q3f9mzb80000gn/T/ipykernel_85139/3414197585.py:3: ElasticsearchWarning: Elasticsearch built-in security features are not enabled. Without authentication, your cluster could be accessible to anyone. See https://www.elastic.co/guide/en/elasticsearch/reference/7.17/security-minimal-setup.html to enable security.\n",
      "  result = client.search(\n"
     ]
    },
    {
     "data": {
      "text/html": [
       "<div>\n",
       "<style scoped>\n",
       "    .dataframe tbody tr th:only-of-type {\n",
       "        vertical-align: middle;\n",
       "    }\n",
       "\n",
       "    .dataframe tbody tr th {\n",
       "        vertical-align: top;\n",
       "    }\n",
       "\n",
       "    .dataframe thead th {\n",
       "        text-align: right;\n",
       "    }\n",
       "</style>\n",
       "<table border=\"1\" class=\"dataframe\">\n",
       "  <thead>\n",
       "    <tr style=\"text-align: right;\">\n",
       "      <th></th>\n",
       "      <th>title</th>\n",
       "      <th>abstract</th>\n",
       "      <th>score</th>\n",
       "    </tr>\n",
       "  </thead>\n",
       "  <tbody>\n",
       "    <tr>\n",
       "      <th>0</th>\n",
       "      <td>Overview of Big Data and Its Visualization</td>\n",
       "      <td>Big Data is data sets that are so voluminous a...</td>\n",
       "      <td>0.205878</td>\n",
       "    </tr>\n",
       "    <tr>\n",
       "      <th>1</th>\n",
       "      <td>Comparison between Expert Systems, Machine Lea...</td>\n",
       "      <td>Today, the science of artificial intelligence ...</td>\n",
       "      <td>0.203744</td>\n",
       "    </tr>\n",
       "    <tr>\n",
       "      <th>2</th>\n",
       "      <td>Skin Cancer Diagnosis Using an Improved Ensemb...</td>\n",
       "      <td>In recent years skin cancer is becoming more a...</td>\n",
       "      <td>0.200586</td>\n",
       "    </tr>\n",
       "    <tr>\n",
       "      <th>3</th>\n",
       "      <td>Soluble ST2, a biomarker of fibrosis, is assoc...</td>\n",
       "      <td>Abstract Several diseases have a deleterious f...</td>\n",
       "      <td>0.187385</td>\n",
       "    </tr>\n",
       "  </tbody>\n",
       "</table>\n",
       "</div>"
      ],
      "text/plain": [
       "                                               title   \n",
       "0         Overview of Big Data and Its Visualization  \\\n",
       "1  Comparison between Expert Systems, Machine Lea...   \n",
       "2  Skin Cancer Diagnosis Using an Improved Ensemb...   \n",
       "3  Soluble ST2, a biomarker of fibrosis, is assoc...   \n",
       "\n",
       "                                            abstract     score  \n",
       "0  Big Data is data sets that are so voluminous a...  0.205878  \n",
       "1  Today, the science of artificial intelligence ...  0.203744  \n",
       "2  In recent years skin cancer is becoming more a...  0.200586  \n",
       "3  Abstract Several diseases have a deleterious f...  0.187385  "
      ]
     },
     "execution_count": 23,
     "metadata": {},
     "output_type": "execute_result"
    }
   ],
   "source": [
    "# Query for the keyword you want\n",
    "val = input(\"Enter the keyword you are looking for: \")\n",
    "result = client.search(\n",
    " index='prueba',\n",
    "  query={\n",
    "    'match': {'abstract': val}\n",
    "  }\n",
    " )\n",
    "a = result['hits']['hits']\n",
    "\n",
    "data = []\n",
    "\n",
    "for hit in a:\n",
    "    entry = {\n",
    "        'title': hit['_source']['title'],\n",
    "        'abstract': hit['_source']['abstract'],\n",
    "        'score': hit['_score']\n",
    "    }\n",
    "    data.append(entry)\n",
    "\n",
    "df = pd.DataFrame(data, columns=['title', 'abstract', 'score'])\n",
    "df"
   ]
  },
  {
   "cell_type": "code",
   "execution_count": 20,
   "metadata": {},
   "outputs": [
    {
     "name": "stderr",
     "output_type": "stream",
     "text": [
      "/var/folders/nd/mfwt7yf50wdb5y15q3f9mzb80000gn/T/ipykernel_85139/986347348.py:2: ElasticsearchWarning: Elasticsearch built-in security features are not enabled. Without authentication, your cluster could be accessible to anyone. See https://www.elastic.co/guide/en/elasticsearch/reference/7.17/security-minimal-setup.html to enable security.\n",
      "  client.options(ignore_status=[400,404]).indices.delete(index='prueba')\n"
     ]
    },
    {
     "data": {
      "text/plain": [
       "ObjectApiResponse({'acknowledged': True})"
      ]
     },
     "execution_count": 20,
     "metadata": {},
     "output_type": "execute_result"
    }
   ],
   "source": [
    "# DO NOT RUN THIS CODE IF YOU DON'T WANT TO DELETE THE INDEX!!!\n",
    "client.options(ignore_status=[400,404]).indices.delete(index='prueba')"
   ]
  },
  {
   "cell_type": "code",
   "execution_count": null,
   "metadata": {},
   "outputs": [],
   "source": []
  }
 ],
 "metadata": {
  "kernelspec": {
   "display_name": "Python 3",
   "language": "python",
   "name": "python3"
  },
  "language_info": {
   "codemirror_mode": {
    "name": "ipython",
    "version": 3
   },
   "file_extension": ".py",
   "mimetype": "text/x-python",
   "name": "python",
   "nbconvert_exporter": "python",
   "pygments_lexer": "ipython3",
   "version": "3.11.3"
  },
  "orig_nbformat": 4
 },
 "nbformat": 4,
 "nbformat_minor": 2
}
