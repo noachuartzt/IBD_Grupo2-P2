{
 "cells": [
  {
   "cell_type": "code",
   "execution_count": 2,
   "metadata": {},
   "outputs": [
    {
     "name": "stdout",
     "output_type": "stream",
     "text": [
      "Collecting elasticsearch\n",
      "  Downloading elasticsearch-8.7.0-py3-none-any.whl (387 kB)\n",
      "                                              0.0/387.9 kB ? eta -:--:--\n",
      "                                              0.0/387.9 kB ? eta -:--:--\n",
      "     --------                                81.9/387.9 kB 2.2 MB/s eta 0:00:01\n",
      "     --------------------                   204.8/387.9 kB 2.1 MB/s eta 0:00:01\n",
      "     -------------------------              256.0/387.9 kB 1.7 MB/s eta 0:00:01\n",
      "     ---------------------------            276.5/387.9 kB 1.5 MB/s eta 0:00:01\n",
      "     ------------------------------         307.2/387.9 kB 1.4 MB/s eta 0:00:01\n",
      "     ---------------------------------      337.9/387.9 kB 1.2 MB/s eta 0:00:01\n",
      "     -------------------------------------  378.9/387.9 kB 1.1 MB/s eta 0:00:01\n",
      "     -------------------------------------- 387.9/387.9 kB 1.1 MB/s eta 0:00:00\n",
      "Collecting elastic-transport<9,>=8 (from elasticsearch)\n",
      "  Downloading elastic_transport-8.4.0-py3-none-any.whl (59 kB)\n",
      "                                              0.0/59.5 kB ? eta -:--:--\n",
      "     --------------------------             41.0/59.5 kB 991.0 kB/s eta 0:00:01\n",
      "     -------------------------------------- 59.5/59.5 kB 794.2 kB/s eta 0:00:00\n",
      "Requirement already satisfied: urllib3<2,>=1.26.2 in c:\\users\\xdavi\\appdata\\local\\packages\\pythonsoftwarefoundation.python.3.10_qbz5n2kfra8p0\\localcache\\local-packages\\python310\\site-packages (from elastic-transport<9,>=8->elasticsearch) (1.26.15)\n",
      "Requirement already satisfied: certifi in c:\\users\\xdavi\\appdata\\local\\packages\\pythonsoftwarefoundation.python.3.10_qbz5n2kfra8p0\\localcache\\local-packages\\python310\\site-packages (from elastic-transport<9,>=8->elasticsearch) (2022.12.7)\n",
      "Installing collected packages: elastic-transport, elasticsearch\n",
      "Successfully installed elastic-transport-8.4.0 elasticsearch-8.7.0\n",
      "Note: you may need to restart the kernel to use updated packages.\n"
     ]
    },
    {
     "name": "stderr",
     "output_type": "stream",
     "text": [
      "\n",
      "[notice] A new release of pip is available: 23.1 -> 23.1.2\n",
      "[notice] To update, run: C:\\Users\\XDavi\\AppData\\Local\\Microsoft\\WindowsApps\\PythonSoftwareFoundation.Python.3.10_qbz5n2kfra8p0\\python.exe -m pip install --upgrade pip\n"
     ]
    }
   ],
   "source": [
    "pip install elasticsearch"
   ]
  },
  {
   "cell_type": "code",
   "execution_count": 59,
   "metadata": {},
   "outputs": [
    {
     "name": "stderr",
     "output_type": "stream",
     "text": [
      "C:\\Users\\XDavi\\AppData\\Local\\Temp\\ipykernel_4628\\2156522912.py:10: ElasticsearchWarning: Elasticsearch built-in security features are not enabled. Without authentication, your cluster could be accessible to anyone. See https://www.elastic.co/guide/en/elasticsearch/reference/7.17/security-minimal-setup.html to enable security.\n",
      "  client.info()\n"
     ]
    },
    {
     "data": {
      "text/plain": [
       "ObjectApiResponse({'name': '9d9a12f07c74', 'cluster_name': 'docker-cluster', 'cluster_uuid': 'FITIbcYeR4erqq6Km1jxLQ', 'version': {'number': '7.17.9', 'build_flavor': 'default', 'build_type': 'docker', 'build_hash': 'ef48222227ee6b9e70e502f0f0daa52435ee634d', 'build_date': '2023-01-31T05:34:43.305517834Z', 'build_snapshot': False, 'lucene_version': '8.11.1', 'minimum_wire_compatibility_version': '6.8.0', 'minimum_index_compatibility_version': '6.0.0-beta1'}, 'tagline': 'You Know, for Search'})"
      ]
     },
     "execution_count": 59,
     "metadata": {},
     "output_type": "execute_result"
    }
   ],
   "source": [
    "from elasticsearch import Elasticsearch\n",
    "import json\n",
    "import os\n",
    "import pandas as pd\n",
    "\n",
    "# Create the client instance\n",
    "client = Elasticsearch(\"http://localhost:9200\")\n",
    "\n",
    "# Successful response!\n",
    "client.info()"
   ]
  },
  {
   "cell_type": "code",
   "execution_count": 91,
   "metadata": {},
   "outputs": [
    {
     "name": "stderr",
     "output_type": "stream",
     "text": [
      "C:\\Users\\XDavi\\AppData\\Local\\Temp\\ipykernel_4628\\3784935029.py:18: ElasticsearchWarning: Elasticsearch built-in security features are not enabled. Without authentication, your cluster could be accessible to anyone. See https://www.elastic.co/guide/en/elasticsearch/reference/7.17/security-minimal-setup.html to enable security.\n",
      "  client.index(\n",
      "C:\\Users\\XDavi\\AppData\\Local\\Temp\\ipykernel_4628\\3784935029.py:23: ElasticsearchWarning: Elasticsearch built-in security features are not enabled. Without authentication, your cluster could be accessible to anyone. See https://www.elastic.co/guide/en/elasticsearch/reference/7.17/security-minimal-setup.html to enable security.\n",
      "  client.indices.refresh(index='lord-of-the-rings')\n"
     ]
    },
    {
     "data": {
      "text/plain": [
       "ObjectApiResponse({'_shards': {'total': 2, 'successful': 1, 'failed': 0}})"
      ]
     },
     "execution_count": 91,
     "metadata": {},
     "output_type": "execute_result"
    }
   ],
   "source": [
    "# NOTE: THe following code must be run just once\n",
    "# Get the documents from the directory\n",
    "entries = os.listdir('1-publications/json')\n",
    "for i in entries:\n",
    "    # Opening JSON file\n",
    "    f = open('1-publications/json/'+i)\n",
    "\n",
    "    # returns JSON object as a dictionary\n",
    "    data = json.load(f)\n",
    "    \n",
    "    # Closing file\n",
    "    f.close()\n",
    "\n",
    "    # Remove the unnecessary fields\n",
    "    list = ['url','paperId','year','publicationDate','authors']\n",
    "    for i in list:\n",
    "        data.pop(i, None)\n",
    "    client.index(\n",
    "    index='prueba',\n",
    "    document=data)\n",
    "\n",
    "# Refresh the index\n",
    "client.indices.refresh(index='lord-of-the-rings')"
   ]
  },
  {
   "cell_type": "code",
   "execution_count": 94,
   "metadata": {},
   "outputs": [
    {
     "name": "stderr",
     "output_type": "stream",
     "text": [
      "C:\\Users\\XDavi\\AppData\\Local\\Temp\\ipykernel_4628\\2039512892.py:3: ElasticsearchWarning: Elasticsearch built-in security features are not enabled. Without authentication, your cluster could be accessible to anyone. See https://www.elastic.co/guide/en/elasticsearch/reference/7.17/security-minimal-setup.html to enable security.\n",
      "  result = client.search(\n",
      "C:\\Users\\XDavi\\AppData\\Local\\Temp\\ipykernel_4628\\2039512892.py:12: FutureWarning: The frame.append method is deprecated and will be removed from pandas in a future version. Use pandas.concat instead.\n",
      "  df = df.append({'title': i['_source']['title'], 'abstract': i['_source']['abstract'],'score':i['_score']}, ignore_index=True)\n",
      "C:\\Users\\XDavi\\AppData\\Local\\Temp\\ipykernel_4628\\2039512892.py:12: FutureWarning: The frame.append method is deprecated and will be removed from pandas in a future version. Use pandas.concat instead.\n",
      "  df = df.append({'title': i['_source']['title'], 'abstract': i['_source']['abstract'],'score':i['_score']}, ignore_index=True)\n",
      "C:\\Users\\XDavi\\AppData\\Local\\Temp\\ipykernel_4628\\2039512892.py:12: FutureWarning: The frame.append method is deprecated and will be removed from pandas in a future version. Use pandas.concat instead.\n",
      "  df = df.append({'title': i['_source']['title'], 'abstract': i['_source']['abstract'],'score':i['_score']}, ignore_index=True)\n",
      "C:\\Users\\XDavi\\AppData\\Local\\Temp\\ipykernel_4628\\2039512892.py:12: FutureWarning: The frame.append method is deprecated and will be removed from pandas in a future version. Use pandas.concat instead.\n",
      "  df = df.append({'title': i['_source']['title'], 'abstract': i['_source']['abstract'],'score':i['_score']}, ignore_index=True)\n",
      "C:\\Users\\XDavi\\AppData\\Local\\Temp\\ipykernel_4628\\2039512892.py:12: FutureWarning: The frame.append method is deprecated and will be removed from pandas in a future version. Use pandas.concat instead.\n",
      "  df = df.append({'title': i['_source']['title'], 'abstract': i['_source']['abstract'],'score':i['_score']}, ignore_index=True)\n"
     ]
    },
    {
     "data": {
      "text/html": [
       "<div>\n",
       "<style scoped>\n",
       "    .dataframe tbody tr th:only-of-type {\n",
       "        vertical-align: middle;\n",
       "    }\n",
       "\n",
       "    .dataframe tbody tr th {\n",
       "        vertical-align: top;\n",
       "    }\n",
       "\n",
       "    .dataframe thead th {\n",
       "        text-align: right;\n",
       "    }\n",
       "</style>\n",
       "<table border=\"1\" class=\"dataframe\">\n",
       "  <thead>\n",
       "    <tr style=\"text-align: right;\">\n",
       "      <th></th>\n",
       "      <th>title</th>\n",
       "      <th>abstract</th>\n",
       "      <th>score</th>\n",
       "    </tr>\n",
       "  </thead>\n",
       "  <tbody>\n",
       "    <tr>\n",
       "      <th>0</th>\n",
       "      <td>Overview of Big Data and Its Visualization</td>\n",
       "      <td>Big Data is data sets that are so voluminous a...</td>\n",
       "      <td>0.170287</td>\n",
       "    </tr>\n",
       "    <tr>\n",
       "      <th>1</th>\n",
       "      <td>Comparison between Expert Systems, Machine Lea...</td>\n",
       "      <td>Today, the science of artificial intelligence ...</td>\n",
       "      <td>0.168505</td>\n",
       "    </tr>\n",
       "    <tr>\n",
       "      <th>2</th>\n",
       "      <td>Skin Cancer Diagnosis Using an Improved Ensemb...</td>\n",
       "      <td>In recent years skin cancer is becoming more a...</td>\n",
       "      <td>0.165958</td>\n",
       "    </tr>\n",
       "    <tr>\n",
       "      <th>3</th>\n",
       "      <td>An Overview of Drugs, Diseases, Genes and Prot...</td>\n",
       "      <td>Several initiatives have emerged during the CO...</td>\n",
       "      <td>0.163347</td>\n",
       "    </tr>\n",
       "    <tr>\n",
       "      <th>4</th>\n",
       "      <td>Soluble ST2, a biomarker of fibrosis, is assoc...</td>\n",
       "      <td>Abstract Several diseases have a deleterious f...</td>\n",
       "      <td>0.155209</td>\n",
       "    </tr>\n",
       "  </tbody>\n",
       "</table>\n",
       "</div>"
      ],
      "text/plain": [
       "                                               title  \\\n",
       "0         Overview of Big Data and Its Visualization   \n",
       "1  Comparison between Expert Systems, Machine Lea...   \n",
       "2  Skin Cancer Diagnosis Using an Improved Ensemb...   \n",
       "3  An Overview of Drugs, Diseases, Genes and Prot...   \n",
       "4  Soluble ST2, a biomarker of fibrosis, is assoc...   \n",
       "\n",
       "                                            abstract     score  \n",
       "0  Big Data is data sets that are so voluminous a...  0.170287  \n",
       "1  Today, the science of artificial intelligence ...  0.168505  \n",
       "2  In recent years skin cancer is becoming more a...  0.165958  \n",
       "3  Several initiatives have emerged during the CO...  0.163347  \n",
       "4  Abstract Several diseases have a deleterious f...  0.155209  "
      ]
     },
     "execution_count": 94,
     "metadata": {},
     "output_type": "execute_result"
    }
   ],
   "source": [
    "# Query for the keyword you want\n",
    "val = input(\"Enter the keyword you are looking for: \")\n",
    "result = client.search(\n",
    " index='prueba',\n",
    "  query={\n",
    "    'match': {'abstract': val}\n",
    "  }\n",
    " )\n",
    "a = result['hits']['hits']\n",
    "df = pd.DataFrame(columns=['title', 'abstract','score'])\n",
    "for i in a:\n",
    "    df = df.append({'title': i['_source']['title'], 'abstract': i['_source']['abstract'],'score':i['_score']}, ignore_index=True)\n",
    "df"
   ]
  },
  {
   "cell_type": "code",
   "execution_count": 89,
   "metadata": {},
   "outputs": [
    {
     "name": "stderr",
     "output_type": "stream",
     "text": [
      "C:\\Users\\XDavi\\AppData\\Local\\Temp\\ipykernel_4628\\2243560813.py:2: ElasticsearchWarning: Elasticsearch built-in security features are not enabled. Without authentication, your cluster could be accessible to anyone. See https://www.elastic.co/guide/en/elasticsearch/reference/7.17/security-minimal-setup.html to enable security.\n",
      "  client.options(ignore_status=[400,404]).indices.delete(index='prueba')\n"
     ]
    },
    {
     "data": {
      "text/plain": [
       "ObjectApiResponse({'acknowledged': True})"
      ]
     },
     "execution_count": 89,
     "metadata": {},
     "output_type": "execute_result"
    }
   ],
   "source": [
    "# DO NOT RUN THIS CODE IF YOU DON'T WANT TO DELETE THE INDEX!!!\n",
    "client.options(ignore_status=[400,404]).indices.delete(index='prueba')"
   ]
  }
 ],
 "metadata": {
  "kernelspec": {
   "display_name": "Python 3",
   "language": "python",
   "name": "python3"
  },
  "language_info": {
   "codemirror_mode": {
    "name": "ipython",
    "version": 3
   },
   "file_extension": ".py",
   "mimetype": "text/x-python",
   "name": "python",
   "nbconvert_exporter": "python",
   "pygments_lexer": "ipython3",
   "version": "3.10.11"
  },
  "orig_nbformat": 4
 },
 "nbformat": 4,
 "nbformat_minor": 2
}
