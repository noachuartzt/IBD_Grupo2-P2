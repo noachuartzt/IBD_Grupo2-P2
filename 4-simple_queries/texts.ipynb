{
 "cells": [
  {
   "cell_type": "code",
   "execution_count": 1,
   "metadata": {},
   "outputs": [
    {
     "name": "stdout",
     "output_type": "stream",
     "text": [
      "Looking in indexes: https://pypi.org/simple, https://pypi.ngc.nvidia.com\n"
     ]
    }
   ],
   "source": [
    "!pip install elasticsearch"
   ]
  },
  {
   "cell_type": "code",
   "execution_count": 5,
   "metadata": {},
   "outputs": [
    {
     "name": "stderr",
     "output_type": "stream",
     "text": [
      "C:\\Users\\XDavi\\AppData\\Local\\Temp\\ipykernel_17960\\2156522912.py:10: ElasticsearchWarning: Elasticsearch built-in security features are not enabled. Without authentication, your cluster could be accessible to anyone. See https://www.elastic.co/guide/en/elasticsearch/reference/7.17/security-minimal-setup.html to enable security.\n",
      "  client.info()\n"
     ]
    },
    {
     "data": {
      "text/plain": [
       "ObjectApiResponse({'name': '01df5d9e4e66', 'cluster_name': 'docker-cluster', 'cluster_uuid': 'FITIbcYeR4erqq6Km1jxLQ', 'version': {'number': '7.17.9', 'build_flavor': 'default', 'build_type': 'docker', 'build_hash': 'ef48222227ee6b9e70e502f0f0daa52435ee634d', 'build_date': '2023-01-31T05:34:43.305517834Z', 'build_snapshot': False, 'lucene_version': '8.11.1', 'minimum_wire_compatibility_version': '6.8.0', 'minimum_index_compatibility_version': '6.0.0-beta1'}, 'tagline': 'You Know, for Search'})"
      ]
     },
     "execution_count": 5,
     "metadata": {},
     "output_type": "execute_result"
    }
   ],
   "source": [
    "from elasticsearch import Elasticsearch\n",
    "import json\n",
    "import os\n",
    "import pandas as pd\n",
    "\n",
    "# Create the client instance\n",
    "client = Elasticsearch(\"http://localhost:9200\")\n",
    "\n",
    "# Successful response!\n",
    "client.info()"
   ]
  },
  {
   "cell_type": "code",
   "execution_count": 11,
   "metadata": {},
   "outputs": [
    {
     "name": "stderr",
     "output_type": "stream",
     "text": [
      "C:\\Users\\XDavi\\AppData\\Local\\Temp\\ipykernel_17960\\1647646017.py:18: ElasticsearchWarning: Elasticsearch built-in security features are not enabled. Without authentication, your cluster could be accessible to anyone. See https://www.elastic.co/guide/en/elasticsearch/reference/7.17/security-minimal-setup.html to enable security.\n",
      "  client.index(\n",
      "C:\\Users\\XDavi\\AppData\\Local\\Temp\\ipykernel_17960\\1647646017.py:23: ElasticsearchWarning: Elasticsearch built-in security features are not enabled. Without authentication, your cluster could be accessible to anyone. See https://www.elastic.co/guide/en/elasticsearch/reference/7.17/security-minimal-setup.html to enable security.\n",
      "  client.indices.refresh(index='prueba')\n"
     ]
    },
    {
     "data": {
      "text/plain": [
       "ObjectApiResponse({'_shards': {'total': 2, 'successful': 1, 'failed': 0}})"
      ]
     },
     "execution_count": 11,
     "metadata": {},
     "output_type": "execute_result"
    }
   ],
   "source": [
    "# NOTE: THe following code must be run just once\n",
    "# Get the documents from the directory\n",
    "entries = os.listdir('../1-publications/json')\n",
    "for i in entries:\n",
    "    # Opening JSON file\n",
    "    f = open('../1-publications/json/'+i)\n",
    "\n",
    "    # returns JSON object as a dictionary\n",
    "    data = json.load(f)\n",
    "    \n",
    "    # Closing file\n",
    "    f.close()\n",
    "\n",
    "    # Remove the unnecessary fields\n",
    "    list = ['url','paperId','year','publicationDate','authors']\n",
    "    for i in list:\n",
    "        data.pop(i, None)\n",
    "    client.index(\n",
    "    index='prueba',\n",
    "    document=data)\n",
    "\n",
    "# Refresh the index\n",
    "client.indices.refresh(index='prueba')"
   ]
  },
  {
   "cell_type": "code",
   "execution_count": 15,
   "metadata": {},
   "outputs": [
    {
     "name": "stderr",
     "output_type": "stream",
     "text": [
      "C:\\Users\\XDavi\\AppData\\Local\\Temp\\ipykernel_17960\\2039512892.py:3: ElasticsearchWarning: Elasticsearch built-in security features are not enabled. Without authentication, your cluster could be accessible to anyone. See https://www.elastic.co/guide/en/elasticsearch/reference/7.17/security-minimal-setup.html to enable security.\n",
      "  result = client.search(\n",
      "C:\\Users\\XDavi\\AppData\\Local\\Temp\\ipykernel_17960\\2039512892.py:12: FutureWarning: The frame.append method is deprecated and will be removed from pandas in a future version. Use pandas.concat instead.\n",
      "  df = df.append({'title': i['_source']['title'], 'abstract': i['_source']['abstract'],'score':i['_score']}, ignore_index=True)\n"
     ]
    },
    {
     "data": {
      "text/html": [
       "<div>\n",
       "<style scoped>\n",
       "    .dataframe tbody tr th:only-of-type {\n",
       "        vertical-align: middle;\n",
       "    }\n",
       "\n",
       "    .dataframe tbody tr th {\n",
       "        vertical-align: top;\n",
       "    }\n",
       "\n",
       "    .dataframe thead th {\n",
       "        text-align: right;\n",
       "    }\n",
       "</style>\n",
       "<table border=\"1\" class=\"dataframe\">\n",
       "  <thead>\n",
       "    <tr style=\"text-align: right;\">\n",
       "      <th></th>\n",
       "      <th>title</th>\n",
       "      <th>abstract</th>\n",
       "      <th>score</th>\n",
       "    </tr>\n",
       "  </thead>\n",
       "  <tbody>\n",
       "    <tr>\n",
       "      <th>0</th>\n",
       "      <td>Comparison between Expert Systems, Machine Lea...</td>\n",
       "      <td>Today, the science of artificial intelligence ...</td>\n",
       "      <td>2.165986</td>\n",
       "    </tr>\n",
       "  </tbody>\n",
       "</table>\n",
       "</div>"
      ],
      "text/plain": [
       "                                               title  \\\n",
       "0  Comparison between Expert Systems, Machine Lea...   \n",
       "\n",
       "                                            abstract     score  \n",
       "0  Today, the science of artificial intelligence ...  2.165986  "
      ]
     },
     "execution_count": 15,
     "metadata": {},
     "output_type": "execute_result"
    }
   ],
   "source": [
    "# Query for the keyword you want\n",
    "val = input(\"Enter the keyword you are looking for: \")\n",
    "result = client.search(\n",
    " index='prueba',\n",
    "  query={\n",
    "    'match': {'abstract': val}\n",
    "  }\n",
    " )\n",
    "a = result['hits']['hits']\n",
    "df = pd.DataFrame(columns=['title', 'abstract','score'])\n",
    "for i in a:\n",
    "    df = df.append({'title': i['_source']['title'], 'abstract': i['_source']['abstract'],'score':i['_score']}, ignore_index=True)\n",
    "df"
   ]
  },
  {
   "cell_type": "code",
   "execution_count": 10,
   "metadata": {},
   "outputs": [
    {
     "name": "stderr",
     "output_type": "stream",
     "text": [
      "C:\\Users\\XDavi\\AppData\\Local\\Temp\\ipykernel_17960\\986347348.py:2: ElasticsearchWarning: Elasticsearch built-in security features are not enabled. Without authentication, your cluster could be accessible to anyone. See https://www.elastic.co/guide/en/elasticsearch/reference/7.17/security-minimal-setup.html to enable security.\n",
      "  client.options(ignore_status=[400,404]).indices.delete(index='prueba')\n"
     ]
    },
    {
     "data": {
      "text/plain": [
       "ObjectApiResponse({'acknowledged': True})"
      ]
     },
     "execution_count": 10,
     "metadata": {},
     "output_type": "execute_result"
    }
   ],
   "source": [
    "# DO NOT RUN THIS CODE IF YOU DON'T WANT TO DELETE THE INDEX!!!\n",
    "#client.options(ignore_status=[400,404]).indices.delete(index='prueba')"
   ]
  }
 ],
 "metadata": {
  "kernelspec": {
   "display_name": "Python 3",
   "language": "python",
   "name": "python3"
  },
  "language_info": {
   "codemirror_mode": {
    "name": "ipython",
    "version": 3
   },
   "file_extension": ".py",
   "mimetype": "text/x-python",
   "name": "python",
   "nbconvert_exporter": "python",
   "pygments_lexer": "ipython3",
   "version": "3.11.3"
  },
  "orig_nbformat": 4
 },
 "nbformat": 4,
 "nbformat_minor": 2
}
