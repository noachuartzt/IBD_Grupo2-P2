{
 "cells": [
  {
   "cell_type": "code",
   "execution_count": 2,
   "metadata": {},
   "outputs": [
    {
     "name": "stdout",
     "output_type": "stream",
     "text": [
      "Requirement already satisfied: neo4j in c:\\users\\noaca\\appdata\\local\\programs\\python\\python310\\lib\\site-packages (5.8.1)\n",
      "Requirement already satisfied: pytz in c:\\users\\noaca\\appdata\\local\\programs\\python\\python310\\lib\\site-packages (from neo4j) (2023.3)\n"
     ]
    },
    {
     "name": "stderr",
     "output_type": "stream",
     "text": [
      "\n",
      "[notice] A new release of pip is available: 23.0.1 -> 23.1.2\n",
      "[notice] To update, run: python.exe -m pip install --upgrade pip\n"
     ]
    }
   ],
   "source": [
    "!pip install neo4j"
   ]
  },
  {
   "cell_type": "code",
   "execution_count": 3,
   "metadata": {},
   "outputs": [],
   "source": [
    "from neo4j import GraphDatabase"
   ]
  },
  {
   "cell_type": "code",
   "execution_count": 4,
   "metadata": {},
   "outputs": [
    {
     "data": {
      "text/plain": [
       "[{'n.id': '9e2501b8e5da6e1627508c4eb321bf66eb41020e'}]"
      ]
     },
     "execution_count": 4,
     "metadata": {},
     "output_type": "execute_result"
    }
   ],
   "source": [
    "host = \"bolt://localhost:7687\"      # Connect to Neo4j \n",
    "auth = (\"neo4j\", \"password\")        # User and password\n",
    "\n",
    "# Connect to the Neo4j Database Server\n",
    "driver = GraphDatabase.driver(host, auth=auth)\n",
    "\n",
    "# Create a Session \n",
    "session = driver.session()\n",
    "\n",
    "# Check connection\n",
    "session.run(\"MATCH (n) RETURN n.id LIMIT 1\").data()"
   ]
  },
  {
   "cell_type": "code",
   "execution_count": 5,
   "metadata": {},
   "outputs": [],
   "source": [
    "# Create Nodes and Relationships\n",
    "creation = '''\n",
    "LOAD CSV WITH HEADERS FROM 'https://github.com/noachuartzt/IBD_Grupo2-P2/raw/main/1-publications/csv/output.csv' AS row\n",
    "\n",
    "// Create Paper node\n",
    "MERGE (p:Paper {id: row.paperId, title: row.title})\n",
    "SET p.publicationDate = CASE WHEN row.publicationDate IS NOT NULL THEN row.publicationDate ELSE \"Unknown\" END\n",
    "SET p.abstract = CASE WHEN row.abstract IS NOT NULL THEN row.abstract ELSE \"Unknown\" END\n",
    "\n",
    "// Create Author node\n",
    "WITH row, split(row.authorId, ',') AS ids, split(row.authorName, ',') AS names, p\n",
    "UNWIND range(0, size(ids)-1) AS i\n",
    "\n",
    "MERGE (a:Author {id: ids[i]})\n",
    "SET a.name = names[i]\n",
    "\n",
    "// Create WRITTEN_BY relationship\n",
    "MERGE (p)-[:WRITTEN_BY {authorId: row.authorId}]->(a)\n",
    "'''\n",
    "\n",
    "result = session.run(creation)"
   ]
  },
  {
   "cell_type": "code",
   "execution_count": 6,
   "metadata": {},
   "outputs": [
    {
     "name": "stdout",
     "output_type": "stream",
     "text": [
      "\n",
      "| Name | Collaborations |\n",
      "\n",
      "| A. Aarab             | 2\n",
      "| M. A. Sabri          | 2\n",
      "| O. Ukkola            | 1\n",
      "| Y. Kesäniemi         | 1\n",
      "| Humam Al-Shahwani    | 1\n",
      "| Karan Aggarwal       | 1\n",
      "| Dhamyaa Salim Mutar  | 1\n",
      "| Maad M. Mijwil       | 1\n",
      "| Hasnae El Khoukhi    | 1\n",
      "| A. Yahyaouy          | 1\n",
      "| A. Ennouni           | 1\n"
     ]
    }
   ],
   "source": [
    "collaborators = '''\n",
    "MATCH (a:Author {name: \"Y. Filali\"})<-[:WRITTEN_BY]-(p:Paper)-[:WRITTEN_BY]->(b:Author) WHERE a <> b\n",
    "WITH b, COUNT(p) AS Collaborations\n",
    "ORDER BY Collaborations DESC\n",
    "RETURN b.name AS Name, Collaborations \n",
    "'''\n",
    "\n",
    "result2 = session.run(collaborators)\n",
    "\n",
    "print(\"\\n| Name | Collaborations |\\n\")\n",
    "\n",
    "for record in result2:\n",
    "    name, collaborations = record[\"Name\"],  record[\"Collaborations\"]\n",
    "    print(f'| {name:<20} | {collaborations}')\n"
   ]
  },
  {
   "cell_type": "code",
   "execution_count": 7,
   "metadata": {},
   "outputs": [
    {
     "name": "stdout",
     "output_type": "stream",
     "text": [
      "| Title | Number of authors |\n",
      "\n",
      "| 3     | Soluble ST2, a biomarker of fibrosis, is associated with multiple risk factors, chronic diseases and total mortality in the OPERA study\n",
      "| 4     | Skin Cancer Diagnosis Using an Improved Ensemble Machine Learning model\n",
      "| 5     | Comparison between Expert Systems, Machine Learning, and Big Data: An Overview\n",
      "| 5     | 2. An overview of skin lesion segmentation, features engineering, and classification\n"
     ]
    }
   ],
   "source": [
    "articles1 = '''\n",
    "MATCH (p:Paper)-[:WRITTEN_BY]->(:Author {name: 'Y. Filali'})\n",
    "MATCH (p)-[:WRITTEN_BY]->(a:Author)\n",
    "RETURN p.title AS Title, COUNT(a) AS numAuthors\n",
    "ORDER BY numAuthors ASC\n",
    "'''\n",
    "result = session.run(articles1)\n",
    "\n",
    "print(\"| Title | Number of authors |\\n\")\n",
    "\n",
    "for record in result:\n",
    "    num_authors, title = record[\"numAuthors\"],  record[\"Title\"]\n",
    "    print(f'| {num_authors:<5} | {title}')"
   ]
  },
  {
   "cell_type": "code",
   "execution_count": 8,
   "metadata": {},
   "outputs": [
    {
     "name": "stdout",
     "output_type": "stream",
     "text": [
      "| Title | Number of authors |\n",
      "\n",
      "| 3     | Soluble ST2, a biomarker of fibrosis, is associated with multiple risk factors, chronic diseases and total mortality in the OPERA study\n",
      "| 4     | Skin Cancer Diagnosis Using an Improved Ensemble Machine Learning model\n",
      "| 5     | Comparison between Expert Systems, Machine Learning, and Big Data: An Overview\n",
      "| 5     | 2. An overview of skin lesion segmentation, features engineering, and classification\n"
     ]
    }
   ],
   "source": [
    "articles2 = '''\n",
    "// Otra Opción\n",
    "MATCH (a:Author {name: \"Y. Filali\"})<-[:WRITTEN_BY]-(p:Paper)-[:WRITTEN_BY]->(b:Author) WHERE a <> b\n",
    "RETURN p.title as Title, COUNT (b) + 1 as numAuthors\n",
    "ORDER BY numAuthors ASC\n",
    "'''\n",
    "\n",
    "result = session.run(articles2)\n",
    "\n",
    "print(\"| Title | Number of authors |\\n\")\n",
    "\n",
    "for record in result:\n",
    "    num_authors, title = record[\"numAuthors\"],  record[\"Title\"]\n",
    "    print(f'| {num_authors:<5} | {title}')"
   ]
  }
 ],
 "metadata": {
  "kernelspec": {
   "display_name": "Python 3",
   "language": "python",
   "name": "python3"
  },
  "language_info": {
   "codemirror_mode": {
    "name": "ipython",
    "version": 3
   },
   "file_extension": ".py",
   "mimetype": "text/x-python",
   "name": "python",
   "nbconvert_exporter": "python",
   "pygments_lexer": "ipython3",
   "version": "3.10.11"
  },
  "orig_nbformat": 4
 },
 "nbformat": 4,
 "nbformat_minor": 2
}
