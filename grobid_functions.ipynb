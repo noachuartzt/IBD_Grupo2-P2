{
 "cells": [
  {
   "attachments": {},
   "cell_type": "markdown",
   "metadata": {},
   "source": [
    "### Práctica 2: Infraestructura UPM para publicaciones científicas\n",
    "\n",
    "## Funciones"
   ]
  },
  {
   "cell_type": "code",
   "execution_count": 17,
   "metadata": {},
   "outputs": [
    {
     "name": "stdout",
     "output_type": "stream",
     "text": [
      "Looking in indexes: https://pypi.org/simple, https://pypi.ngc.nvidia.com\n",
      "Requirement already satisfied: bs4 in /opt/homebrew/lib/python3.11/site-packages (0.0.1)\n",
      "Requirement already satisfied: beautifulsoup4 in /opt/homebrew/lib/python3.11/site-packages (from bs4) (4.12.2)\n",
      "Requirement already satisfied: soupsieve>1.2 in /opt/homebrew/lib/python3.11/site-packages (from beautifulsoup4->bs4) (2.4.1)\n",
      "Looking in indexes: https://pypi.org/simple, https://pypi.ngc.nvidia.com\n",
      "Requirement already satisfied: pathlib in /opt/homebrew/lib/python3.11/site-packages (1.0.1)\n",
      "Looking in indexes: https://pypi.org/simple, https://pypi.ngc.nvidia.com\n",
      "Requirement already satisfied: lxml in /opt/homebrew/lib/python3.11/site-packages (4.9.2)\n",
      "Looking in indexes: https://pypi.org/simple, https://pypi.ngc.nvidia.com\n",
      "Requirement already satisfied: grobid_client in /opt/homebrew/lib/python3.11/site-packages (0.8.3)\n",
      "Requirement already satisfied: attrs<22.0.0,>=20.1.0 in /opt/homebrew/lib/python3.11/site-packages (from grobid_client) (21.4.0)\n",
      "Requirement already satisfied: beautifulsoup4<5.0.0,>=4.10.0 in /opt/homebrew/lib/python3.11/site-packages (from grobid_client) (4.12.2)\n",
      "Requirement already satisfied: h11>=0.12.0 in /opt/homebrew/lib/python3.11/site-packages (from grobid_client) (0.12.0)\n",
      "Requirement already satisfied: httpx<0.23.0,>=0.15.4 in /opt/homebrew/lib/python3.11/site-packages (from grobid_client) (0.22.0)\n",
      "Requirement already satisfied: lxml<5.0.0,>=4.7.1 in /opt/homebrew/lib/python3.11/site-packages (from grobid_client) (4.9.2)\n",
      "Requirement already satisfied: python-dateutil<3.0.0,>=2.8.0 in /Users/carlota/Library/Python/3.11/lib/python/site-packages (from grobid_client) (2.8.2)\n",
      "Requirement already satisfied: soupsieve>1.2 in /opt/homebrew/lib/python3.11/site-packages (from beautifulsoup4<5.0.0,>=4.10.0->grobid_client) (2.4.1)\n",
      "Requirement already satisfied: certifi in /opt/homebrew/lib/python3.11/site-packages (from httpx<0.23.0,>=0.15.4->grobid_client) (2022.12.7)\n",
      "Requirement already satisfied: charset-normalizer in /opt/homebrew/lib/python3.11/site-packages (from httpx<0.23.0,>=0.15.4->grobid_client) (3.1.0)\n",
      "Requirement already satisfied: sniffio in /opt/homebrew/lib/python3.11/site-packages (from httpx<0.23.0,>=0.15.4->grobid_client) (1.3.0)\n",
      "Requirement already satisfied: rfc3986[idna2008]<2,>=1.3 in /opt/homebrew/lib/python3.11/site-packages (from httpx<0.23.0,>=0.15.4->grobid_client) (1.5.0)\n",
      "Requirement already satisfied: httpcore<0.15.0,>=0.14.5 in /opt/homebrew/lib/python3.11/site-packages (from httpx<0.23.0,>=0.15.4->grobid_client) (0.14.7)\n",
      "Requirement already satisfied: six>=1.5 in /Users/carlota/Library/Python/3.11/lib/python/site-packages (from python-dateutil<3.0.0,>=2.8.0->grobid_client) (1.16.0)\n",
      "Requirement already satisfied: anyio==3.* in /opt/homebrew/lib/python3.11/site-packages (from httpcore<0.15.0,>=0.14.5->httpx<0.23.0,>=0.15.4->grobid_client) (3.6.2)\n",
      "Requirement already satisfied: idna>=2.8 in /opt/homebrew/lib/python3.11/site-packages (from anyio==3.*->httpcore<0.15.0,>=0.14.5->httpx<0.23.0,>=0.15.4->grobid_client) (3.4)\n"
     ]
    }
   ],
   "source": [
    "!pip install bs4\n",
    "!pip install pathlib\n",
    "!pip install lxml\n",
    "!pip install grobid_client"
   ]
  },
  {
   "attachments": {},
   "cell_type": "markdown",
   "metadata": {},
   "source": [
    "/* \n",
    "The parameters in the given configuration file are:\n",
    "\"grobid_server\": the URL of the Grobid server to connect to\n",
    "\"batch_size\": the number of documents to process in a batch\n",
    "\"sleep_time\": the time to wait between batches\n",
    "\"timeout\": the maximum time to wait for a response from the server\n",
    "\"coordinates\": the set of elements to include in the XML output with coordinates.\n",
    "*/"
   ]
  },
  {
   "cell_type": "code",
   "execution_count": 39,
   "metadata": {},
   "outputs": [
    {
     "name": "stdout",
     "output_type": "stream",
     "text": [
      "GROBID server is up and running\n",
      "/Users/carlota/Desktop/IBD_Grupo2-P2/documents/test/6424-5907-1-PB.pdf\n",
      "caca\n",
      "None\n"
     ]
    },
    {
     "ename": "AttributeError",
     "evalue": "'NoneType' object has no attribute 'encode'",
     "output_type": "error",
     "traceback": [
      "\u001b[0;31m---------------------------------------------------------------------------\u001b[0m",
      "\u001b[0;31mAttributeError\u001b[0m                            Traceback (most recent call last)",
      "Cell \u001b[0;32mIn[39], line 22\u001b[0m\n\u001b[1;32m     20\u001b[0m \u001b[39mprint\u001b[39m(output)\n\u001b[1;32m     21\u001b[0m \u001b[39m# Extract the title and author information from the parsed output\u001b[39;00m\n\u001b[0;32m---> 22\u001b[0m tei_xml \u001b[39m=\u001b[39m etree\u001b[39m.\u001b[39mfromstring(output\u001b[39m.\u001b[39;49mencode(\u001b[39m'\u001b[39m\u001b[39mutf-8\u001b[39m\u001b[39m'\u001b[39m))\n\u001b[1;32m     24\u001b[0m \u001b[39m#Use XPath to extract the title and author\u001b[39;00m\n\u001b[1;32m     25\u001b[0m title \u001b[39m=\u001b[39m tei_xml\u001b[39m.\u001b[39mxpath(\u001b[39m\"\u001b[39m\u001b[39m//tei:titleStmt/tei:title/text()\u001b[39m\u001b[39m\"\u001b[39m)[\u001b[39m0\u001b[39m]\n",
      "\u001b[0;31mAttributeError\u001b[0m: 'NoneType' object has no attribute 'encode'"
     ]
    }
   ],
   "source": [
    "import csv\n",
    "import requests\n",
    "from bs4 import BeautifulSoup\n",
    "from urllib.parse import urlencode\n",
    "import os\n",
    "from pathlib import Path\n",
    "import pandas as pd\n",
    "from lxml import etree\n",
    "from grobid_client.grobid_client import GrobidClient\n",
    "\n",
    "# Start the Grobid client\n",
    "client = GrobidClient(config_path=\"./config.json\")\n",
    "\n",
    "# Define the path to the PDF file you want to parse\n",
    "pdf_path = \"/Users/carlota/Desktop/IBD_Grupo2-P2/documents/test/6424-5907-1-PB.pdf\"\n",
    "print(pdf_path)\n",
    "print('caca')\n",
    "# Parse the PDF file with Grobid\n",
    "output = client.process(input_path = str(pdf_path), output=\"text\", consolidate_header=True, service = \"processFulltextDocument\" ) \n",
    "print(output)\n",
    "# Extract the title and author information from the parsed output\n",
    "tei_xml = etree.fromstring(output.encode('utf-8'))\n",
    "\n",
    "#Use XPath to extract the title and author\n",
    "title = tei_xml.xpath(\"//tei:titleStmt/tei:title/text()\")[0]\n",
    "author = tei_xml.xpath(\"//tei:author/tei:name/text()\")[0]\n",
    "\n",
    "# Define the path to the CSV file you want to save the results to\n",
    "csv_path = \"/Users/carlota/Desktop/IBD_Grupo2-P2/documents/output/results.csv\"\n",
    "\n",
    "# Write the results to the CSV file\n",
    "result = pd.DataFrame({\"Title\": title, \"Author\": author})\n",
    "output_file_name = \"result\"\n",
    "result.to_csv(f'/Users/carlota/Desktop/IBD_Grupo2-P2/documents/output/{output_file_name}.csv', index=False)\n"
   ]
  },
  {
   "attachments": {},
   "cell_type": "markdown",
   "metadata": {},
   "source": [
    "## Ejemplos"
   ]
  }
 ],
 "metadata": {
  "kernelspec": {
   "display_name": "Python 3",
   "language": "python",
   "name": "python3"
  },
  "language_info": {
   "codemirror_mode": {
    "name": "ipython",
    "version": 3
   },
   "file_extension": ".py",
   "mimetype": "text/x-python",
   "name": "python",
   "nbconvert_exporter": "python",
   "pygments_lexer": "ipython3",
   "version": "3.11.2"
  },
  "orig_nbformat": 4
 },
 "nbformat": 4,
 "nbformat_minor": 2
}
