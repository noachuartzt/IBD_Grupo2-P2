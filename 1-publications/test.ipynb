{
 "cells": [
  {
   "cell_type": "code",
   "execution_count": 1,
   "metadata": {},
   "outputs": [
    {
     "name": "stdout",
     "output_type": "stream",
     "text": [
      "['9e2501b8e5da6e1627508c4eb321bf66eb41020e.json', '2038383fedccdf0b8c1efcb0832ecd18b481b3c1.json', 'f8d9409606abc438537d3a249b56ec0ac8e62e91.json', '7dee9f8f534df0cbb38b12d3bb7c84f86c704fd0.json', '80313ba1f12e4525b941ba29f8e020cf5ae8b835.json', '2ca14fe14f0bd2f1363f3b735e788d12c3f9f332.json']\n"
     ]
    }
   ],
   "source": [
    "from parser import doi_to_json, json_to_csv\n",
    "\n",
    "doi_to_json()\n",
    "\n",
    "json_to_csv()"
   ]
  }
 ],
 "metadata": {
  "kernelspec": {
   "display_name": "Python 3",
   "language": "python",
   "name": "python3"
  },
  "language_info": {
   "codemirror_mode": {
    "name": "ipython",
    "version": 3
   },
   "file_extension": ".py",
   "mimetype": "text/x-python",
   "name": "python",
   "nbconvert_exporter": "python",
   "pygments_lexer": "ipython3",
   "version": "3.11.3"
  },
  "orig_nbformat": 4
 },
 "nbformat": 4,
 "nbformat_minor": 2
}
