{
 "cells": [
  {
   "cell_type": "code",
   "execution_count": 1,
   "metadata": {},
   "outputs": [],
   "source": [
    "from parser import doi_to_json, json_to_csv"
   ]
  },
  {
   "cell_type": "code",
   "execution_count": 2,
   "metadata": {},
   "outputs": [],
   "source": [
    "# Convertir los DOIs a JSON\n",
    "doi_to_json()"
   ]
  },
  {
   "cell_type": "code",
   "execution_count": 3,
   "metadata": {},
   "outputs": [
    {
     "name": "stdout",
     "output_type": "stream",
     "text": [
      "['2038383fedccdf0b8c1efcb0832ecd18b481b3c1.json', '2ca14fe14f0bd2f1363f3b735e788d12c3f9f332.json', '80313ba1f12e4525b941ba29f8e020cf5ae8b835.json']\n"
     ]
    }
   ],
   "source": [
    "import os\n",
    "\n",
    "# Ruta del directorio\n",
    "directory = './json'\n",
    "\n",
    "# Obtener todos los archivos en el directorio\n",
    "files = os.listdir(directory)\n",
    "print(files)"
   ]
  },
  {
   "cell_type": "code",
   "execution_count": 4,
   "metadata": {},
   "outputs": [],
   "source": [
    "for i in files:\n",
    "\n",
    "    # Obtener el nombre del archivo sin la extensión\n",
    "    filename = i.split(\".\")[0]\n",
    "\n",
    "    # Convertir los JSON a CSV\n",
    "    json_to_csv(filename)"
   ]
  }
 ],
 "metadata": {
  "kernelspec": {
   "display_name": "Python 3",
   "language": "python",
   "name": "python3"
  },
  "language_info": {
   "codemirror_mode": {
    "name": "ipython",
    "version": 3
   },
   "file_extension": ".py",
   "mimetype": "text/x-python",
   "name": "python",
   "nbconvert_exporter": "python",
   "pygments_lexer": "ipython3",
   "version": "3.10.11"
  },
  "orig_nbformat": 4
 },
 "nbformat": 4,
 "nbformat_minor": 2
}
